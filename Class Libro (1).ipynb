{
 "cells": [
  {
   "cell_type": "code",
   "execution_count": 1,
   "id": "285bac05-f7ea-463b-a614-b7fead2cb0a8",
   "metadata": {},
   "outputs": [
    {
     "name": "stdout",
     "output_type": "stream",
     "text": [
      "Objeto guardado en libro.pickle\n",
      "Objeto cargado desde libro.pickle\n",
      "Título: Python for Beginners, Autor: John Smith, Año de publicación: 2022\n"
     ]
    }
   ],
   "source": [
    "import pickle\n",
    "\n",
    "class Libro:\n",
    "    def __init__(self, titulo, autor, anio_publicacion):\n",
    "        self.titulo = titulo\n",
    "        self.autor = autor\n",
    "        self.anio_publicacion = anio_publicacion\n",
    "\n",
    "\n",
    "def guardar_objeto(objeto, archivo):\n",
    "    with open(archivo, 'wb') as file:\n",
    "        pickle.dump(objeto, file)\n",
    "    print(f'Objeto guardado en {archivo}')\n",
    "\n",
    "\n",
    "def cargar_objeto(archivo):\n",
    "    with open(archivo, 'rb') as file:\n",
    "        objeto = pickle.load(file)\n",
    "    print(f'Objeto cargado desde {archivo}')\n",
    "    return objeto\n",
    "\n",
    "\n",
    "libro_original = Libro(titulo='Python for Beginners', autor='John Smith', anio_publicacion=2022)\n",
    "\n",
    "\n",
    "archivo_pickle = 'libro.pickle'\n",
    "guardar_objeto(libro_original, archivo_pickle)\n",
    "\n",
    "\n",
    "libro_recuperado = cargar_objeto(archivo_pickle)\n",
    "\n",
    "\n",
    "print(f'Título: {libro_recuperado.titulo}, Autor: {libro_recuperado.autor}, Año de publicación: {libro_recuperado.anio_publicacion}')\n"
   ]
  },
  {
   "cell_type": "code",
   "execution_count": null,
   "id": "0a4dbd18-ec09-43d2-852b-235e3ab823aa",
   "metadata": {},
   "outputs": [],
   "source": []
  }
 ],
 "metadata": {
  "kernelspec": {
   "display_name": "anaconda-panel-2023.05-py310",
   "language": "python",
   "name": "conda-env-anaconda-panel-2023.05-py310-py"
  },
  "language_info": {
   "codemirror_mode": {
    "name": "ipython",
    "version": 3
   },
   "file_extension": ".py",
   "mimetype": "text/x-python",
   "name": "python",
   "nbconvert_exporter": "python",
   "pygments_lexer": "ipython3",
   "version": "3.11.5"
  }
 },
 "nbformat": 4,
 "nbformat_minor": 5
}
