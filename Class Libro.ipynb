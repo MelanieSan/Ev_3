import pickle

class Libro:
    def __init__(self, titulo, autor, anio_publicacion):
        self.titulo = titulo
        self.autor = autor
        self.anio_publicacion = anio_publicacion


def guardar_objeto(objeto, archivo):
    with open(archivo, 'wb') as file:
        pickle.dump(objeto, file)
    print(f'Objeto guardado en {archivo}')


def cargar_objeto(archivo):
    with open(archivo, 'rb') as file:
        objeto = pickle.load(file)
    print(f'Objeto cargado desde {archivo}')
    return objeto


libro_original = Libro(titulo='Python for Beginners', autor='John Smith', anio_publicacion=2022)


archivo_pickle = 'libro.pickle'
guardar_objeto(libro_original, archivo_pickle)


libro_recuperado = cargar_objeto(archivo_pickle)


print(f'Título: {libro_recuperado.titulo}, Autor: {libro_recuperado.autor}, Año de publicación: {libro_recuperado.anio_publicacion}')

